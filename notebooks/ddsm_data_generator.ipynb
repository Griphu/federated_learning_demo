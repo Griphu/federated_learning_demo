{
 "cells": [
  {
   "cell_type": "code",
   "execution_count": 1,
   "metadata": {},
   "outputs": [],
   "source": [
    "import glob\n",
    "import os\n",
    "\n",
    "import cv2\n",
    "from loguru import logger as log\n",
    "\n"
   ]
  },
  {
   "cell_type": "code",
   "execution_count": 37,
   "metadata": {},
   "outputs": [],
   "source": [
    "import pandas as pd"
   ]
  },
  {
   "cell_type": "code",
   "execution_count": 2,
   "metadata": {},
   "outputs": [
    {
     "data": {
      "text/plain": [
       "True"
      ]
     },
     "execution_count": 2,
     "metadata": {},
     "output_type": "execute_result"
    }
   ],
   "source": [
    "from dotenv import load_dotenv\n",
    "load_dotenv()"
   ]
  },
  {
   "cell_type": "code",
   "execution_count": 4,
   "metadata": {},
   "outputs": [],
   "source": [
    "DDSM_ROOT_DIR = os.path.join(os.getenv('data_path'),'datasets','ddsm_ds')"
   ]
  },
  {
   "cell_type": "code",
   "execution_count": 33,
   "metadata": {},
   "outputs": [],
   "source": [
    "file_paths = []\n",
    "for root, case, files in os.walk(f\"{DDSM_ROOT_DIR}/DDSM_JPEG\"):\n",
    "    for file in files:\n",
    "        if file.endswith(\".png\"):\n",
    "            path = os.path.join(root, file)\n",
    "            file_paths.append(path)"
   ]
  },
  {
   "cell_type": "code",
   "execution_count": 58,
   "metadata": {},
   "outputs": [
    {
     "data": {
      "text/plain": [
       "9854"
      ]
     },
     "execution_count": 58,
     "metadata": {},
     "output_type": "execute_result"
    }
   ],
   "source": [
    "file_paths.__len__()"
   ]
  },
  {
   "cell_type": "code",
   "execution_count": 40,
   "metadata": {},
   "outputs": [
    {
     "data": {
      "text/plain": [
       "['/Users/krystianzielinski/Documents/repos/federated_learning_demo/data/datasets/ddsm_ds/DDSM_JPEG/normal_12/case2039/A_2039_1.LEFT_CC.LJPEG.png',\n",
       " '/Users/krystianzielinski/Documents/repos/federated_learning_demo/data/datasets/ddsm_ds/DDSM_JPEG/normal_12/case2039/A_2039_1.RIGHT_MLO.LJPEG.png']"
      ]
     },
     "execution_count": 40,
     "metadata": {},
     "output_type": "execute_result"
    }
   ],
   "source": [
    "file_paths[:2]"
   ]
  },
  {
   "cell_type": "code",
   "execution_count": 41,
   "metadata": {},
   "outputs": [],
   "source": [
    "num_img_per_case = [x.split('/')[-3:] for x in file_paths]"
   ]
  },
  {
   "cell_type": "code",
   "execution_count": 44,
   "metadata": {},
   "outputs": [],
   "source": [
    "num_img_per_case_df = pd.DataFrame(num_img_per_case)"
   ]
  },
  {
   "cell_type": "code",
   "execution_count": 46,
   "metadata": {},
   "outputs": [],
   "source": [
    "num_img_per_case_df['patient_id'] = num_img_per_case_df[0]+num_img_per_case_df[1]"
   ]
  },
  {
   "cell_type": "code",
   "execution_count": 49,
   "metadata": {},
   "outputs": [
    {
     "data": {
      "text/html": [
       "<div>\n",
       "<style scoped>\n",
       "    .dataframe tbody tr th:only-of-type {\n",
       "        vertical-align: middle;\n",
       "    }\n",
       "\n",
       "    .dataframe tbody tr th {\n",
       "        vertical-align: top;\n",
       "    }\n",
       "\n",
       "    .dataframe thead th {\n",
       "        text-align: right;\n",
       "    }\n",
       "</style>\n",
       "<table border=\"1\" class=\"dataframe\">\n",
       "  <thead>\n",
       "    <tr style=\"text-align: right;\">\n",
       "      <th></th>\n",
       "      <th>0</th>\n",
       "      <th>1</th>\n",
       "      <th>2</th>\n",
       "      <th>patient_id</th>\n",
       "    </tr>\n",
       "  </thead>\n",
       "  <tbody>\n",
       "    <tr>\n",
       "      <th>0</th>\n",
       "      <td>normal_12</td>\n",
       "      <td>case2039</td>\n",
       "      <td>A_2039_1.LEFT_CC.LJPEG.png</td>\n",
       "      <td>normal_12case2039</td>\n",
       "    </tr>\n",
       "    <tr>\n",
       "      <th>1</th>\n",
       "      <td>normal_12</td>\n",
       "      <td>case2039</td>\n",
       "      <td>A_2039_1.RIGHT_MLO.LJPEG.png</td>\n",
       "      <td>normal_12case2039</td>\n",
       "    </tr>\n",
       "    <tr>\n",
       "      <th>2</th>\n",
       "      <td>normal_12</td>\n",
       "      <td>case2039</td>\n",
       "      <td>A_2039_1.LEFT_MLO.LJPEG.png</td>\n",
       "      <td>normal_12case2039</td>\n",
       "    </tr>\n",
       "    <tr>\n",
       "      <th>3</th>\n",
       "      <td>normal_12</td>\n",
       "      <td>case2039</td>\n",
       "      <td>A_2039_1.RIGHT_CC.LJPEG.png</td>\n",
       "      <td>normal_12case2039</td>\n",
       "    </tr>\n",
       "    <tr>\n",
       "      <th>4</th>\n",
       "      <td>normal_12</td>\n",
       "      <td>case2030</td>\n",
       "      <td>A_2030_1.RIGHT_CC.LJPEG.png</td>\n",
       "      <td>normal_12case2030</td>\n",
       "    </tr>\n",
       "    <tr>\n",
       "      <th>...</th>\n",
       "      <td>...</td>\n",
       "      <td>...</td>\n",
       "      <td>...</td>\n",
       "      <td>...</td>\n",
       "    </tr>\n",
       "    <tr>\n",
       "      <th>9849</th>\n",
       "      <td>normal_02</td>\n",
       "      <td>case0313</td>\n",
       "      <td>A_0313_1.RIGHT_MLO.LJPEG.png</td>\n",
       "      <td>normal_02case0313</td>\n",
       "    </tr>\n",
       "    <tr>\n",
       "      <th>9850</th>\n",
       "      <td>normal_02</td>\n",
       "      <td>case0314</td>\n",
       "      <td>A_0314_1.LEFT_CC.LJPEG.png</td>\n",
       "      <td>normal_02case0314</td>\n",
       "    </tr>\n",
       "    <tr>\n",
       "      <th>9851</th>\n",
       "      <td>normal_02</td>\n",
       "      <td>case0314</td>\n",
       "      <td>A_0314_1.RIGHT_MLO.LJPEG.png</td>\n",
       "      <td>normal_02case0314</td>\n",
       "    </tr>\n",
       "    <tr>\n",
       "      <th>9852</th>\n",
       "      <td>normal_02</td>\n",
       "      <td>case0314</td>\n",
       "      <td>A_0314_1.RIGHT_CC.LJPEG.png</td>\n",
       "      <td>normal_02case0314</td>\n",
       "    </tr>\n",
       "    <tr>\n",
       "      <th>9853</th>\n",
       "      <td>normal_02</td>\n",
       "      <td>case0314</td>\n",
       "      <td>A_0314_1.LEFT_MLO.LJPEG.png</td>\n",
       "      <td>normal_02case0314</td>\n",
       "    </tr>\n",
       "  </tbody>\n",
       "</table>\n",
       "<p>9854 rows × 4 columns</p>\n",
       "</div>"
      ],
      "text/plain": [
       "              0         1                             2         patient_id\n",
       "0     normal_12  case2039    A_2039_1.LEFT_CC.LJPEG.png  normal_12case2039\n",
       "1     normal_12  case2039  A_2039_1.RIGHT_MLO.LJPEG.png  normal_12case2039\n",
       "2     normal_12  case2039   A_2039_1.LEFT_MLO.LJPEG.png  normal_12case2039\n",
       "3     normal_12  case2039   A_2039_1.RIGHT_CC.LJPEG.png  normal_12case2039\n",
       "4     normal_12  case2030   A_2030_1.RIGHT_CC.LJPEG.png  normal_12case2030\n",
       "...         ...       ...                           ...                ...\n",
       "9849  normal_02  case0313  A_0313_1.RIGHT_MLO.LJPEG.png  normal_02case0313\n",
       "9850  normal_02  case0314    A_0314_1.LEFT_CC.LJPEG.png  normal_02case0314\n",
       "9851  normal_02  case0314  A_0314_1.RIGHT_MLO.LJPEG.png  normal_02case0314\n",
       "9852  normal_02  case0314   A_0314_1.RIGHT_CC.LJPEG.png  normal_02case0314\n",
       "9853  normal_02  case0314   A_0314_1.LEFT_MLO.LJPEG.png  normal_02case0314\n",
       "\n",
       "[9854 rows x 4 columns]"
      ]
     },
     "execution_count": 49,
     "metadata": {},
     "output_type": "execute_result"
    }
   ],
   "source": [
    "num_img_per_case_df"
   ]
  },
  {
   "cell_type": "code",
   "execution_count": 56,
   "metadata": {},
   "outputs": [],
   "source": [
    "counter = num_img_per_case_df.groupby('patient_id').count()[2]"
   ]
  },
  {
   "cell_type": "code",
   "execution_count": 57,
   "metadata": {},
   "outputs": [
    {
     "data": {
      "text/plain": [
       "patient_id\n",
       "cancer_01case3007    5\n",
       "cancer_13case4140    5\n",
       "Name: 2, dtype: int64"
      ]
     },
     "execution_count": 57,
     "metadata": {},
     "output_type": "execute_result"
    }
   ],
   "source": [
    "counter.loc[counter>4]"
   ]
  },
  {
   "cell_type": "code",
   "execution_count": null,
   "metadata": {},
   "outputs": [],
   "source": []
  },
  {
   "cell_type": "code",
   "execution_count": 9,
   "metadata": {},
   "outputs": [],
   "source": [
    "def ddsm_data_generator(read_img_as_8_bits: bool = False) -> dict:\n",
    "    for root, _, files in os.walk(f\"{DDSM_ROOT_DIR}/DDSM_JPEG\"):\n",
    "        for file in files:\n",
    "            if file.endswith(\".png\"):\n",
    "                path = os.path.join(root, file)\n",
    "                # if read_img_as_8_bits:\n",
    "                #     img = cv2.imread(path)\n",
    "                # else:\n",
    "                #     img = cv2.imread(path, cv2.IMREAD_UNCHANGED)\n",
    "                file_description = path.split(\"/\")[-1].replace(\".LJPEG.png\", \"\").split('.')\n",
    "                density = int(file_description[0].split('_')[0])\n",
    "                patient_id = file_description[0].split('_')[1]\n",
    "                which_brest = file_description[1].split('_')[0]\n",
    "                image_view = file_description[1].split('_')[1]\n",
    "                yield {\n",
    "                    # \"img\": img,\n",
    "                    \"density\": density,\n",
    "                    \"which_breast\": which_brest,\n",
    "                    \"image_view\": image_view,\n",
    "                    \"patient_id\": patient_id\n",
    "                }\n",
    "\n",
    "\n",
    "# generator = ddsm_data_generator(read_img_as_8_bits=False)\n",
    "# print(next(generator))\n",
    "# print(next(generator)[\"img\"].shape)\n",
    "# print(next(generator)[\"img\"])\n"
   ]
  },
  {
   "cell_type": "code",
   "execution_count": 10,
   "metadata": {},
   "outputs": [
    {
     "data": {
      "text/plain": [
       "<generator object ddsm_data_generator at 0x1385ef270>"
      ]
     },
     "execution_count": 10,
     "metadata": {},
     "output_type": "execute_result"
    }
   ],
   "source": [
    "ddsm_data_generator()"
   ]
  },
  {
   "cell_type": "code",
   "execution_count": null,
   "metadata": {},
   "outputs": [],
   "source": [
    "import os\n",
    "\n",
    "import cv2\n",
    "from loguru import logger as log\n",
    "\n",
    "from data_generators import consts\n",
    "from data_generators.data_augmentation import data_augmentation\n",
    "from datasets.ddsm_ds.ddsm_data_generator_kz import ddsm_data_generator\n",
    "from general_tools.patching import find_patch\n",
    "\n",
    "TEST_DATA_SPLIT = 0.2\n",
    "TARGET_IMG_SIZE = (224, 224)\n",
    "PATCHING = False\n",
    "\n",
    "MIAS_DIR_MAP_TRAIN = {\n",
    "    \"F\": consts.TWO_CLASSES_TRAIN_NOT_DENSE_PATH,\n",
    "    \"G\": consts.TWO_CLASSES_TRAIN_NOT_DENSE_PATH,\n",
    "    \"D\": consts.TWO_CLASSES_TRAIN_DENSE_PATH\n",
    "}\n",
    "OTHER_DIR_MAP_TRAIN = {\n",
    "    1: consts.TWO_CLASSES_TRAIN_NOT_DENSE_PATH,\n",
    "    2: consts.TWO_CLASSES_TRAIN_NOT_DENSE_PATH,\n",
    "    3: consts.TWO_CLASSES_TRAIN_DENSE_PATH,\n",
    "    4: consts.TWO_CLASSES_TRAIN_DENSE_PATH\n",
    "}\n",
    "\n",
    "MIAS_DIR_MAP_TEST = {\n",
    "    \"F\": consts.TWO_CLASSES_TEST_NOT_DENSE_PATH,\n",
    "    \"G\": consts.TWO_CLASSES_TEST_NOT_DENSE_PATH,\n",
    "    \"D\": consts.TWO_CLASSES_TEST_DENSE_PATH\n",
    "}\n",
    "OTHER_DIR_MAP_TEST = {\n",
    "    1: consts.TWO_CLASSES_TEST_NOT_DENSE_PATH,\n",
    "    2: consts.TWO_CLASSES_TEST_NOT_DENSE_PATH,\n",
    "    3: consts.TWO_CLASSES_TEST_DENSE_PATH,\n",
    "    4: consts.TWO_CLASSES_TEST_DENSE_PATH\n",
    "}\n",
    "\n",
    "\n",
    "def id_generator():\n",
    "    id = 0\n",
    "    while True:\n",
    "        yield id\n",
    "        id += 1\n",
    "\n",
    "\n",
    "def convert_16b_to_8b(img_16b):\n",
    "    return (img_16b / 256).astype('uint8')\n",
    "\n",
    "\n",
    "def generate_data_for_given_generator(data_generator, id_generator, regularization_factor, test_map, train_map,\n",
    "                                      additional_prepro_steps=None, augment=False):\n",
    "    test_count = int(1 / TEST_DATA_SPLIT)\n",
    "    counter = 1\n",
    "\n",
    "    nd_counter = 0\n",
    "    d_counter = 0\n",
    "\n",
    "    images_counter = 1\n",
    "    for data in data_generator:\n",
    "        if not data[\"img\"]:\n",
    "            log.warning(f\"No image found for for {data_generator}\")\n",
    "            continue\n",
    "\n",
    "        try:\n",
    "            if counter == test_count:\n",
    "                target_dir = test_map[data[\"density\"]]\n",
    "                counter = 1\n",
    "            else:\n",
    "                target_dir = train_map[data[\"density\"]]\n",
    "                counter += 1\n",
    "        except KeyError:\n",
    "            continue\n",
    "        # data[\"img\"] = data[\"img\"] / regularization_factor\n",
    "        if additional_prepro_steps:\n",
    "            data[\"img\"] = additional_prepro_steps(data[\"img\"])\n",
    "        if PATCHING:\n",
    "            data[\"img\"] = find_patch(data[\"img\"])\n",
    "        data[\"img\"] = cv2.resize(data[\"img\"], TARGET_IMG_SIZE)\n",
    "        file_name = os.path.join(target_dir, f\"{next(id_generator)}.png\")\n",
    "        cv2.imwrite(file_name, data[\"img\"])\n",
    "        if data[\"density\"] in [3, 4] or data[\"density\"] == \"D\":\n",
    "            d_counter += 1\n",
    "            if augment:\n",
    "                augmented_image = data_augmentation(data[\"img\"])\n",
    "                augmented_file_name = os.path.join(target_dir, f\"{next(id_generator)}.png\")\n",
    "                cv2.imwrite(augmented_file_name, augmented_image)\n",
    "        else:\n",
    "            nd_counter += 1\n",
    "\n",
    "        if images_counter % 100 == 0:\n",
    "            log.info(f\"Parsed another 100 images\")\n",
    "        images_counter += 1\n",
    "    print(\"DENSE: \", d_counter)\n",
    "    print(\"NOT DENSE: \", nd_counter)\n",
    "\n",
    "\n",
    "def generate_dataset_two_classes():\n",
    "    ddsm = ddsm_data_generator()\n",
    "\n",
    "    id = id_generator()\n",
    "\n",
    "    log.info(\"Start parsing DDSM\")\n",
    "    generate_data_for_given_generator(ddsm, id, consts.REGULARIZATION_FACTOR_16_BIT, OTHER_DIR_MAP_TEST,\n",
    "                                      OTHER_DIR_MAP_TRAIN,\n",
    "                                      additional_prepro_steps=convert_16b_to_8b, augment=False)\n",
    "    log.info(\"DDSM parsed\")\n",
    "\n",
    "if __name__ == \"__main__\":\n",
    "    generate_dataset_two_classes()\n"
   ]
  }
 ],
 "metadata": {
  "kernelspec": {
   "display_name": "base",
   "language": "python",
   "name": "python3"
  },
  "language_info": {
   "codemirror_mode": {
    "name": "ipython",
    "version": 3
   },
   "file_extension": ".py",
   "mimetype": "text/x-python",
   "name": "python",
   "nbconvert_exporter": "python",
   "pygments_lexer": "ipython3",
   "version": "3.9.13 (main, Aug 25 2022, 18:24:45) \n[Clang 12.0.0 ]"
  },
  "orig_nbformat": 4,
  "vscode": {
   "interpreter": {
    "hash": "38cca0c38332a56087b24af0bc80247f4fced29cb4f7f437d91dc159adec9c4e"
   }
  }
 },
 "nbformat": 4,
 "nbformat_minor": 2
}
